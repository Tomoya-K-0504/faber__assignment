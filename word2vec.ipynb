{
 "cells": [
  {
   "cell_type": "code",
   "execution_count": 145,
   "metadata": {},
   "outputs": [],
   "source": [
    "import json\n",
    "import os\n",
    "import re\n",
    "import MeCab\n",
    "import numpy as np\n",
    "import keras\n",
    "from keras.utils import np_utils\n",
    "from keras.models import Sequential, model_from_json\n",
    "from keras.layers import Dense\n",
    "from keras.preprocessing import sequence\n",
    "import collections\n",
    "\n",
    "# import gensim.parsing.preprocessing\n",
    "from gensim import corpora, matutils\n",
    "from gensim.models import word2vec\n",
    "from gensim.models.doc2vec import Doc2Vec\n",
    "from gensim.models.doc2vec import TaggedDocument\n",
    "\n",
    "from sklearn.model_selection import train_test_split\n",
    "\n",
    "def clean_text(text):\n",
    "    replaced_text = text.lower()\n",
    "    replaced_text = re.sub(r'[【】]', ' ', replaced_text)       # 【】の除去\n",
    "    replaced_text = re.sub(r'[（）()]', ' ', replaced_text)     # （）の除去\n",
    "    replaced_text = re.sub(r'[［］\\[\\]]', ' ', replaced_text)   # ［］の除去\n",
    "    replaced_text = re.sub(r'[@＠]\\w+', '', replaced_text)  # メンションの除去\n",
    "    replaced_text = re.sub(r'https?:\\/\\/.*?[\\r\\n ]', '', replaced_text)  # URLの除去\n",
    "    replaced_text = re.sub(r'　', ' ', replaced_text)  # 全角空白の除去\n",
    "    return replaced_text\n",
    "\n",
    "\n",
    "def tokenize(text):\n",
    "    mecabTagger = MeCab.Tagger('mecal-ipadic-neologd')\n",
    "    word_list = []\n",
    "    res = mecabTagger.parseToNode(text)\n",
    "    while res:\n",
    "        pos = res.feature.split(\",\")\n",
    "        if pos[0] in [\"名詞\"]:\n",
    "            if not pos[1] in [\"代名詞\", \"固有名詞\", \"数\", \"非自立\", \"特殊\"]:\n",
    "                try:\n",
    "                    word_list.append(res.surface)\n",
    "                except UnicodeDecodeError:\n",
    "                    pass\n",
    "#                     print('デコードエラー→'+pos[0]+pos[1]+pos[2])\n",
    "        res = res.next\n",
    "    return word_list\n",
    "\n",
    "def make_words_list(data):\n",
    "    words_list = [clean_text(text) for text in data]\n",
    "    words_list = [tokenize(text) for text in words_list]\n",
    "    return words_list\n",
    "\n",
    "project_dir = os.getcwd()\n",
    "DATA_DIR = os.path.join(project_dir, 'data')\n",
    "SAVE_DIR = model_path = os.path.join(project_dir, 'model/doc2vec.model')"
   ]
  },
  {
   "cell_type": "code",
   "execution_count": 169,
   "metadata": {},
   "outputs": [
    {
     "name": "stdout",
     "output_type": "stream",
     "text": [
      "私がプロデュースしているカロリー1/2の豆腐生チョコ毎日限定で販売しています。是非お買い上げください！ 抹茶・ラムレーズン味も！ 私の情報は https://t.co/4OjgY4iFuh に集約されています。\n"
     ]
    }
   ],
   "source": [
    "from pymongo import MongoClient\n",
    "\n",
    "# コネクション作成\n",
    "client = MongoClient('localhost', 27017)\n",
    "db = client['by_user_database']\n",
    "# データベースからコレクションを取得\n",
    "collection = db['horiemon_collection']\n",
    "# tweetのIDの最大値を取得\n",
    "doc = list(collection.find().sort(\"id\", -1).limit(1000))\n",
    "texts = [doc[i]['text'] for i in range(len(doc))]\n",
    "words_list = make_words_list(texts)\n",
    "trainings = [TaggedDocument(words = words,tags = [i]) for i,words in enumerate(words_list)]\n",
    "\n",
    "# トレーニング\n",
    "m = Doc2Vec(documents= trainings, dm = 1, size=300, window=8, min_count=10, workers=4)\n",
    "\n",
    "# モデルのセーブ\n",
    "if not os.path.exists(SAVE_DIR):\n",
    "    m.save(SAVE_DIR)\n",
    "\n",
    "# モデルのロード(モデルが用意してあれば、ここからで良い)\n",
    "m = Doc2Vec.load(SAVE_DIR)"
   ]
  },
  {
   "cell_type": "code",
   "execution_count": 199,
   "metadata": {},
   "outputs": [],
   "source": [
    "db = client['#起業']\n",
    "tweeter_list = db.collection_names()\n",
    "\n",
    "for i in range(len(tweeter_list)):\n",
    "    tweets = ''\n",
    "    collection = db[tweeter_list[i]]\n",
    "    doc = list(collection.find().sort(\"id\", -1))\n",
    "    for j in range(len(doc)):\n",
    "        tweets = tweets + clean_text(doc[j]['text']) + os.linesep\n",
    "    tweets_name = tweeter_list[i] + '.txt'\n",
    "    open_path = os.path.join(DATA_DIR, 'tweets', tweets_name)\n",
    "    with open(open_path, 'w') as f:\n",
    "        f.write(tweets)"
   ]
  },
  {
   "cell_type": "code",
   "execution_count": 202,
   "metadata": {},
   "outputs": [
    {
     "ename": "TypeError",
     "evalue": "'<' not supported between instances of 'str' and 'int'",
     "output_type": "error",
     "traceback": [
      "\u001b[0;31m---------------------------------------------------------------------------\u001b[0m",
      "\u001b[0;31mTypeError\u001b[0m                                 Traceback (most recent call last)",
      "\u001b[0;32m<ipython-input-202-233f0338a0b6>\u001b[0m in \u001b[0;36m<module>\u001b[0;34m()\u001b[0m\n\u001b[0;32m----> 1\u001b[0;31m \u001b[0ma\u001b[0m \u001b[0;34m=\u001b[0m \u001b[0mm\u001b[0m\u001b[0;34m.\u001b[0m\u001b[0mdocvecs\u001b[0m\u001b[0;34m.\u001b[0m\u001b[0mmost_similar\u001b[0m\u001b[0;34m(\u001b[0m\u001b[0mpositive\u001b[0m\u001b[0;34m=\u001b[0m\u001b[0mopen_path\u001b[0m\u001b[0;34m,\u001b[0m \u001b[0mtopn\u001b[0m\u001b[0;34m=\u001b[0m\u001b[0;36m2\u001b[0m\u001b[0;34m)\u001b[0m\u001b[0;34m\u001b[0m\u001b[0m\n\u001b[0m",
      "\u001b[0;32m/anaconda3/lib/python3.6/site-packages/gensim/models/doc2vec.py\u001b[0m in \u001b[0;36mmost_similar\u001b[0;34m(self, positive, negative, topn, clip_start, clip_end, indexer)\u001b[0m\n\u001b[1;32m    458\u001b[0m             \u001b[0;32mif\u001b[0m \u001b[0misinstance\u001b[0m\u001b[0;34m(\u001b[0m\u001b[0mdoc\u001b[0m\u001b[0;34m,\u001b[0m \u001b[0mndarray\u001b[0m\u001b[0;34m)\u001b[0m\u001b[0;34m:\u001b[0m\u001b[0;34m\u001b[0m\u001b[0m\n\u001b[1;32m    459\u001b[0m                 \u001b[0mmean\u001b[0m\u001b[0;34m.\u001b[0m\u001b[0mappend\u001b[0m\u001b[0;34m(\u001b[0m\u001b[0mweight\u001b[0m \u001b[0;34m*\u001b[0m \u001b[0mdoc\u001b[0m\u001b[0;34m)\u001b[0m\u001b[0;34m\u001b[0m\u001b[0m\n\u001b[0;32m--> 460\u001b[0;31m             \u001b[0;32melif\u001b[0m \u001b[0mdoc\u001b[0m \u001b[0;32min\u001b[0m \u001b[0mself\u001b[0m\u001b[0;34m.\u001b[0m\u001b[0mdoctags\u001b[0m \u001b[0;32mor\u001b[0m \u001b[0mdoc\u001b[0m \u001b[0;34m<\u001b[0m \u001b[0mself\u001b[0m\u001b[0;34m.\u001b[0m\u001b[0mcount\u001b[0m\u001b[0;34m:\u001b[0m\u001b[0;34m\u001b[0m\u001b[0m\n\u001b[0m\u001b[1;32m    461\u001b[0m                 \u001b[0mmean\u001b[0m\u001b[0;34m.\u001b[0m\u001b[0mappend\u001b[0m\u001b[0;34m(\u001b[0m\u001b[0mweight\u001b[0m \u001b[0;34m*\u001b[0m \u001b[0mself\u001b[0m\u001b[0;34m.\u001b[0m\u001b[0mdoctag_syn0norm\u001b[0m\u001b[0;34m[\u001b[0m\u001b[0mself\u001b[0m\u001b[0;34m.\u001b[0m\u001b[0m_int_index\u001b[0m\u001b[0;34m(\u001b[0m\u001b[0mdoc\u001b[0m\u001b[0;34m)\u001b[0m\u001b[0;34m]\u001b[0m\u001b[0;34m)\u001b[0m\u001b[0;34m\u001b[0m\u001b[0m\n\u001b[1;32m    462\u001b[0m                 \u001b[0mall_docs\u001b[0m\u001b[0;34m.\u001b[0m\u001b[0madd\u001b[0m\u001b[0;34m(\u001b[0m\u001b[0mself\u001b[0m\u001b[0;34m.\u001b[0m\u001b[0m_int_index\u001b[0m\u001b[0;34m(\u001b[0m\u001b[0mdoc\u001b[0m\u001b[0;34m)\u001b[0m\u001b[0;34m)\u001b[0m\u001b[0;34m\u001b[0m\u001b[0m\n",
      "\u001b[0;31mTypeError\u001b[0m: '<' not supported between instances of 'str' and 'int'"
     ]
    }
   ],
   "source": [
    "a = m.docvecs.most_similar(positive=open_path, topn=2)"
   ]
  }
 ],
 "metadata": {
  "kernelspec": {
   "display_name": "Python 3",
   "language": "python",
   "name": "python3"
  },
  "language_info": {
   "codemirror_mode": {
    "name": "ipython",
    "version": 3
   },
   "file_extension": ".py",
   "mimetype": "text/x-python",
   "name": "python",
   "nbconvert_exporter": "python",
   "pygments_lexer": "ipython3",
   "version": "3.6.3"
  }
 },
 "nbformat": 4,
 "nbformat_minor": 2
}
